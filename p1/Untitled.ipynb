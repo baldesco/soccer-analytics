{
 "cells": [
  {
   "cell_type": "code",
   "execution_count": 1,
   "id": "a674cb65-99b5-414c-bf48-023ad98c149d",
   "metadata": {},
   "outputs": [],
   "source": [
    "from kloppy import statsbomb"
   ]
  },
  {
   "cell_type": "code",
   "execution_count": 2,
   "id": "a57c7441-1cea-4898-9c35-f65f34db3bd7",
   "metadata": {},
   "outputs": [
    {
     "name": "stderr",
     "output_type": "stream",
     "text": [
      "C:\\Users\\Eduardo\\miniconda3\\envs\\dl\\lib\\site-packages\\kloppy\\_providers\\statsbomb.py:46: UserWarning: \n",
      "\n",
      "You are about to use StatsBomb public data.\n",
      "By using this data, you are agreeing to the user agreement. \n",
      "The user agreement can be found here: https://github.com/statsbomb/open-data/blob/master/LICENSE.pdf\n",
      "\n",
      "  warnings.warn(\n"
     ]
    }
   ],
   "source": [
    "# https://kloppy.pysport.org/examples/event_data/\n",
    "dataset = statsbomb.load_open_data(event_types=[\"pass\", \"shot\"])\n",
    "metadata = dataset.metadata"
   ]
  },
  {
   "cell_type": "code",
   "execution_count": 3,
   "id": "01aabc41-b5b3-419e-8364-bfd30bb93c92",
   "metadata": {},
   "outputs": [
    {
     "name": "stdout",
     "output_type": "stream",
     "text": [
      "home - Barcelona\n",
      "away - Deportivo Alavés\n"
     ]
    }
   ],
   "source": [
    "home_team, away_team = metadata.teams\n",
    "print(f\"{home_team.ground} - {home_team}\")\n",
    "print(f\"{away_team.ground} - {away_team}\")"
   ]
  },
  {
   "cell_type": "code",
   "execution_count": 5,
   "id": "045d8f50-67c6-4e87-9b72-fbbee6cefc53",
   "metadata": {},
   "outputs": [
    {
     "data": {
      "text/plain": [
       "<DatasetFlag.BALL_OWNING_TEAM: 1>"
      ]
     },
     "execution_count": 5,
     "metadata": {},
     "output_type": "execute_result"
    }
   ],
   "source": [
    "metadata.flags"
   ]
  }
 ],
 "metadata": {
  "kernelspec": {
   "display_name": "Python 3 (ipykernel)",
   "language": "python",
   "name": "python3"
  },
  "language_info": {
   "codemirror_mode": {
    "name": "ipython",
    "version": 3
   },
   "file_extension": ".py",
   "mimetype": "text/x-python",
   "name": "python",
   "nbconvert_exporter": "python",
   "pygments_lexer": "ipython3",
   "version": "3.9.7"
  }
 },
 "nbformat": 4,
 "nbformat_minor": 5
}
