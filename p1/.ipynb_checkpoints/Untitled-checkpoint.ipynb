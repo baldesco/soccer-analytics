{
 "cells": [
  {
   "cell_type": "code",
   "execution_count": 1,
   "id": "a674cb65-99b5-414c-bf48-023ad98c149d",
   "metadata": {},
   "outputs": [],
   "source": [
    "from kloppy import statsbomb"
   ]
  },
  {
   "cell_type": "code",
   "execution_count": 2,
   "id": "a57c7441-1cea-4898-9c35-f65f34db3bd7",
   "metadata": {},
   "outputs": [
    {
     "name": "stderr",
     "output_type": "stream",
     "text": [
      "C:\\Users\\Eduardo\\miniconda3\\envs\\dl\\lib\\site-packages\\kloppy\\_providers\\statsbomb.py:46: UserWarning: \n",
      "\n",
      "You are about to use StatsBomb public data.\n",
      "By using this data, you are agreeing to the user agreement. \n",
      "The user agreement can be found here: https://github.com/statsbomb/open-data/blob/master/LICENSE.pdf\n",
      "\n",
      "  warnings.warn(\n"
     ]
    }
   ],
   "source": [
    "# https://kloppy.pysport.org/examples/event_data/\n",
    "dataset = statsbomb.load_open_data(event_types=[\"pass\", \"shot\"])\n",
    "metadata = dataset.metadata"
   ]
  },
  {
   "cell_type": "code",
   "execution_count": 3,
   "id": "01aabc41-b5b3-419e-8364-bfd30bb93c92",
   "metadata": {},
   "outputs": [
    {
     "name": "stdout",
     "output_type": "stream",
     "text": [
      "home - Barcelona\n",
      "away - Deportivo Alavés\n"
     ]
    }
   ],
   "source": [
    "home_team, away_team = metadata.teams\n",
    "print(f\"{home_team.ground} - {home_team}\")\n",
    "print(f\"{away_team.ground} - {away_team}\")"
   ]
  },
  {
   "cell_type": "code",
   "execution_count": 9,
   "id": "045d8f50-67c6-4e87-9b72-fbbee6cefc53",
   "metadata": {},
   "outputs": [
    {
     "data": {
      "text/plain": [
       "Metadata(teams=[Team(team_id='217', name='Barcelona', ground=home, starting_formation=<FormationType.FOUR_FOUR_TWO: '4-4-2'>, players=[Player(player_id='3109', team=..., jersey_no=14, name='Malcom Filipe Silva de Oliveira', first_name=None, last_name=None, starting=False, position=None, attributes={}), Player(player_id='3501', team=..., jersey_no=7, name='Philippe Coutinho Correia', first_name=None, last_name=None, starting=False, position=None, attributes={}), Player(player_id='5203', team=..., jersey_no=5, name='Sergio Busquets i Burgos', first_name=None, last_name=None, starting=True, position=None, attributes={}), Player(player_id='5211', team=..., jersey_no=18, name='Jordi Alba Ramos', first_name=None, last_name=None, starting=True, position=None, attributes={}), Player(player_id='5213', team=..., jersey_no=3, name='Gerard Piqué Bernabéu', first_name=None, last_name=None, starting=True, position=None, attributes={}), Player(player_id='5246', team=..., jersey_no=9, name='Luis Alberto Suárez Díaz', first_name=None, last_name=None, starting=True, position=None, attributes={}), Player(player_id='5470', team=..., jersey_no=4, name='Ivan Rakitić', first_name=None, last_name=None, starting=True, position=None, attributes={}), Player(player_id='5477', team=..., jersey_no=11, name='Ousmane Dembélé', first_name=None, last_name=None, starting=True, position=None, attributes={}), Player(player_id='5492', team=..., jersey_no=23, name='Samuel Yves Umtiti', first_name=None, last_name=None, starting=True, position=None, attributes={}), Player(player_id='5503', team=..., jersey_no=10, name='Lionel Andrés Messi Cuccittini', first_name=None, last_name=None, starting=True, position=None, attributes={}), Player(player_id='6374', team=..., jersey_no=2, name='Nélson Cabral Semedo', first_name=None, last_name=None, starting=True, position=None, attributes={}), Player(player_id='6379', team=..., jersey_no=20, name='Sergi Roberto Carnicer', first_name=None, last_name=None, starting=True, position=None, attributes={}), Player(player_id='6826', team=..., jersey_no=15, name='Clément Lenglet', first_name=None, last_name=None, starting=False, position=None, attributes={}), Player(player_id='6998', team=..., jersey_no=12, name='Rafael Alcântara do Nascimento', first_name=None, last_name=None, starting=False, position=None, attributes={}), Player(player_id='8206', team=..., jersey_no=22, name='Arturo Erasmo Vidal Pardo', first_name=None, last_name=None, starting=False, position=None, attributes={}), Player(player_id='8652', team=..., jersey_no=13, name='Jasper Cillessen', first_name=None, last_name=None, starting=False, position=None, attributes={}), Player(player_id='11392', team=..., jersey_no=8, name='Arthur Henrique Ramos de Oliveira Melo', first_name=None, last_name=None, starting=False, position=None, attributes={}), Player(player_id='20055', team=..., jersey_no=1, name='Marc-André ter Stegen', first_name=None, last_name=None, starting=True, position=None, attributes={})]), Team(team_id='206', name='Deportivo Alavés', ground=away, starting_formation=<FormationType.FOUR_ONE_FOUR_ONE: '4-1-4-1'>, players=[Player(player_id='6566', team=..., jersey_no=18, name='Borja González Tomás', first_name=None, last_name=None, starting=False, position=None, attributes={}), Player(player_id='6581', team=..., jersey_no=23, name='Jonathan Rodríguez Menéndez', first_name=None, last_name=None, starting=True, position=None, attributes={}), Player(player_id='6612', team=..., jersey_no=3, name='Rubén Duarte Sánchez', first_name=None, last_name=None, starting=True, position=None, attributes={}), Player(player_id='6613', team=..., jersey_no=7, name='Rubén Sobrino Pozuelo', first_name=None, last_name=None, starting=True, position=None, attributes={}), Player(player_id='6615', team=..., jersey_no=5, name='Víctor Laguardia Cisneros', first_name=None, last_name=None, starting=True, position=None, attributes={}), Player(player_id='6617', team=..., jersey_no=11, name='Ibai Gómez Pérez', first_name=None, last_name=None, starting=True, position=None, attributes={}), Player(player_id='6618', team=..., jersey_no=21, name='Martín Aguirregabiria Padilla', first_name=None, last_name=None, starting=True, position=None, attributes={}), Player(player_id='6624', team=..., jersey_no=14, name='Jorge Franco Alviz', first_name=None, last_name=None, starting=False, position=None, attributes={}), Player(player_id='6626', team=..., jersey_no=22, name='Mubarak Wakaso', first_name=None, last_name=None, starting=True, position=None, attributes={}), Player(player_id='6629', team=..., jersey_no=1, name='Fernando Pacheco Flores', first_name=None, last_name=None, starting=True, position=None, attributes={}), Player(player_id='6632', team=..., jersey_no=19, name='Manuel Alejandro García Sánchez', first_name=None, last_name=None, starting=True, position=None, attributes={}), Player(player_id='6839', team=..., jersey_no=16, name='Daniel Alejandro Torres Rojas', first_name=None, last_name=None, starting=True, position=None, attributes={}), Player(player_id='6855', team=..., jersey_no=6, name='Guillermo Alfonso Maripán Loaysa', first_name=None, last_name=None, starting=True, position=None, attributes={}), Player(player_id='6923', team=..., jersey_no=15, name='Joaquín Navarro Jiménez', first_name=None, last_name=None, starting=False, position=None, attributes={}), Player(player_id='6935', team=..., jersey_no=17, name='Adrián Marín Gómez', first_name=None, last_name=None, starting=False, position=None, attributes={}), Player(player_id='9748', team=..., jersey_no=13, name='Antonio Sivera Salvá', first_name=None, last_name=None, starting=False, position=None, attributes={}), Player(player_id='12190', team=..., jersey_no=24, name='Patrick Twumasi', first_name=None, last_name=None, starting=False, position=None, attributes={})])], periods=[Period(id=1, start_timestamp=0.0, end_timestamp=2705.267, attacking_direction=not-set), Period(id=2, start_timestamp=2705.268, end_timestamp=5557.321, attacking_direction=not-set)], pitch_dimensions=PitchDimensions(x_dim=Dimension(min=0, max=1), y_dim=Dimension(min=0, max=1), length=120, width=80), score=None, frame_rate=None, orientation=action-executing-team, flags=<DatasetFlag.BALL_OWNING_TEAM: 1>, provider=<Provider.STATSBOMB: 'statsbomb'>, coordinate_system=KloppyCoordinateSystem(normalized=True, length=120, width=80))"
      ]
     },
     "execution_count": 9,
     "metadata": {},
     "output_type": "execute_result"
    }
   ],
   "source": [
    "metadata"
   ]
  }
 ],
 "metadata": {
  "kernelspec": {
   "display_name": "Python 3 (ipykernel)",
   "language": "python",
   "name": "python3"
  },
  "language_info": {
   "codemirror_mode": {
    "name": "ipython",
    "version": 3
   },
   "file_extension": ".py",
   "mimetype": "text/x-python",
   "name": "python",
   "nbconvert_exporter": "python",
   "pygments_lexer": "ipython3",
   "version": "3.9.7"
  }
 },
 "nbformat": 4,
 "nbformat_minor": 5
}
